{
 "cells": [
  {
   "cell_type": "code",
   "execution_count": 18,
   "metadata": {},
   "outputs": [
    {
     "name": "stdout",
     "output_type": "stream",
     "text": [
      "Starting thread SpeechRecThread\n",
      "listening\n",
      "thread: Rouge\n",
      "Rouge\n",
      "listening\n",
      "thread: Bridge\n",
      "Bridge\n",
      "listening\n",
      "thread: potato\n",
      "potato\n",
      "listening\n",
      "Google Speech Recognition could not understand audio\n",
      "listening\n",
      "Google Speech Recognition could not understand audio\n",
      "listening\n",
      "thread: dart\n",
      "dart\n",
      "listening\n",
      "thread: I thought\n",
      "I thought\n",
      "listening\n",
      "Google Speech Recognition could not understand audio\n",
      "listening\n",
      "Google Speech Recognition could not understand audio\n",
      "listening\n",
      "thread: stop\n",
      "stop\n",
      "thread: stop\n",
      "stop\n",
      "listening\n",
      "listening\n",
      "Google Speech Recognition could not understand audio\n",
      "listening\n",
      "Google Speech Recognition could not understand audio\n",
      "listening\n",
      "Google Speech Recognition could not understand audio\n",
      "listeningGoogle Speech Recognition could not understand audio\n",
      "\n",
      "listening\n"
     ]
    },
    {
     "ename": "KeyboardInterrupt",
     "evalue": "",
     "output_type": "error",
     "traceback": [
      "\u001b[1;31m---------------------------------------------------------------------------\u001b[0m",
      "\u001b[1;31mKeyboardInterrupt\u001b[0m                         Traceback (most recent call last)",
      "\u001b[1;32m~\\AppData\\Local\\Temp/ipykernel_14832/956109174.py\u001b[0m in \u001b[0;36m<module>\u001b[1;34m\u001b[0m\n\u001b[0;32m     39\u001b[0m \u001b[0mspeechThread\u001b[0m\u001b[1;33m.\u001b[0m\u001b[0mstart\u001b[0m\u001b[1;33m(\u001b[0m\u001b[1;33m)\u001b[0m\u001b[1;33m\u001b[0m\u001b[1;33m\u001b[0m\u001b[0m\n\u001b[0;32m     40\u001b[0m \u001b[1;32mwhile\u001b[0m\u001b[1;33m(\u001b[0m\u001b[1;32mTrue\u001b[0m\u001b[1;33m)\u001b[0m\u001b[1;33m:\u001b[0m\u001b[1;33m\u001b[0m\u001b[1;33m\u001b[0m\u001b[0m\n\u001b[1;32m---> 41\u001b[1;33m     \u001b[1;32mif\u001b[0m \u001b[1;32mnot\u001b[0m \u001b[0mword\u001b[0m \u001b[1;33m==\u001b[0m \u001b[1;34m\"\"\u001b[0m\u001b[1;33m:\u001b[0m\u001b[1;33m\u001b[0m\u001b[1;33m\u001b[0m\u001b[0m\n\u001b[0m\u001b[0;32m     42\u001b[0m         \u001b[0mprint\u001b[0m\u001b[1;33m(\u001b[0m\u001b[0mword\u001b[0m\u001b[1;33m)\u001b[0m\u001b[1;33m\u001b[0m\u001b[1;33m\u001b[0m\u001b[0m\n\u001b[0;32m     43\u001b[0m         \u001b[0mword\u001b[0m \u001b[1;33m=\u001b[0m \u001b[1;34m\"\"\u001b[0m\u001b[1;33m\u001b[0m\u001b[1;33m\u001b[0m\u001b[0m\n",
      "\u001b[1;31mKeyboardInterrupt\u001b[0m: "
     ]
    },
    {
     "name": "stdout",
     "output_type": "stream",
     "text": [
      "Google Speech Recognition could not understand audio\n",
      "listening\n",
      "Google Speech Recognition could not understand audio\n",
      "listening\n",
      "Google Speech Recognition could not understand audio\n",
      "listening\n"
     ]
    }
   ],
   "source": [
    "from threading import Thread\n",
    "import speech_recognition as sr\n",
    "\n",
    "word = \"\"\n",
    "\n",
    "#class SpeechRecognitionThread (threading.Thread):\n",
    "#    def __init__(self, threadID, name, counter):\n",
    "#      threading.Thread.__init__(self)\n",
    "#      self.threadID = threadID\n",
    "#      self.name = name\n",
    "#      self.counter = counter\n",
    "#\n",
    "#    def run(self):\n",
    "#        print(\"Starting \" + self.name)\n",
    "#        print(\"Exiting \" + self.name)\n",
    "\n",
    "def speechRecThread(threadname):\n",
    "    global word\n",
    "    print(\"Starting thread \" + threadname)\n",
    "    r = sr.Recognizer()\n",
    "    while(True):\n",
    "        with sr.Microphone() as source:\n",
    "            print(\"listening\")\n",
    "            audio = r.listen(source)\n",
    "        try:\n",
    "            # recognize speech using Google Speech Recognition\n",
    "            said = r.recognize_google(audio)\n",
    "            print(\"thread: \"+ said)\n",
    "            #Passes the said phrase into the main program\n",
    "            word = said\n",
    "        except sr.UnknownValueError:\n",
    "            print(\"Google Speech Recognition could not understand audio\")\n",
    "        except sr.RequestError as e:\n",
    "            print(\"Could not request results from Google Speech Recognition service; {0}\".format(e))\n",
    "            break\n",
    "\n",
    "speechThread = Thread(target=speechRecThread, args=(\"SpeechRecThread\",))\n",
    "speechThread.start()\n",
    "while(True):\n",
    "    if not word == \"\":\n",
    "        print(word)\n",
    "        word = \"\""
   ]
  }
 ],
 "metadata": {
  "interpreter": {
   "hash": "b6483709be57a4e2b43d5a095e3f332327a45d73bfcba0de4602a984ed295a03"
  },
  "kernelspec": {
   "display_name": "Python 3.9.5 64-bit",
   "language": "python",
   "name": "python3"
  },
  "language_info": {
   "codemirror_mode": {
    "name": "ipython",
    "version": 3
   },
   "file_extension": ".py",
   "mimetype": "text/x-python",
   "name": "python",
   "nbconvert_exporter": "python",
   "pygments_lexer": "ipython3",
   "version": "3.9.5"
  },
  "orig_nbformat": 4
 },
 "nbformat": 4,
 "nbformat_minor": 2
}
