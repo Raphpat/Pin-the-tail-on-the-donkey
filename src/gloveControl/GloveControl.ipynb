{
 "cells": [
  {
   "cell_type": "code",
   "execution_count": 1,
   "metadata": {},
   "outputs": [],
   "source": [
    "import serial\n",
    "\n",
    "\n",
    "def open_glove():\n",
    "    return serial.Serial('COM8')\n",
    "\n",
    "\n",
    "def close_glove(ser):\n",
    "    ser.close()\n",
    "\n",
    "\n",
    "def buzz(ser, loc, lenms=500):\n",
    "    '''Buzz given location for given duration in ms\n",
    "    location codes:\n",
    "    t, b, l, r, a'''\n",
    "    loc_ar = {'t': '1000', 'r': '0100', 'b': '0010', 'l': '0001', 'a': '1111'}\n",
    "    loc_code = loc_ar[loc]\n",
    "    com = loc_code+'buzz'+str(lenms)+'.'\n",
    "    ser.write(str.encode(com))\n",
    "\n",
    "\n",
    "def spin(times):\n",
    "    for i in range(times):\n",
    "        buzz('t', 50)\n",
    "        buzz('r', 50)\n",
    "        buzz('b', 50)\n",
    "        buzz('l', 50)\n",
    "\n",
    "\n",
    "def guide(position, target, marginOfError, ser, mode):\n",
    "    \"\"\"Will print guiding information to guide the user's hand to the target\n",
    "    position: tupple with the hand's location\n",
    "    target: tuple with the target's position\n",
    "    marginOfError: double representing how far from the middle point \n",
    "    ser: connection to the glove\n",
    "    \"\"\"\n",
    "    # Check the x coordinate to guide to middle\n",
    "    if position[0] > target[0] * (1.0 - marginOfError) and not position[0] < target[0] * (1.0 + marginOfError):\n",
    "        if mode == 0:\n",
    "            print(\"Right\")\n",
    "        else:\n",
    "            buzz(ser, \"l\")\n",
    "    elif position[0] < target[0] * (1.0 + marginOfError) and not position[0] > target[0] * (1.0 - marginOfError):\n",
    "        if mode == 0:\n",
    "            print(\"Left\")\n",
    "        else:\n",
    "            buzz(ser, \"r\")\n",
    "        # Check the y coordinate to guide to middle\n",
    "    if position[1] > target[1] * (1.0 - marginOfError) and not position[1] < target[1] * (1.0 + marginOfError):\n",
    "        if mode == 0:\n",
    "            print(\"Up\")\n",
    "        else:\n",
    "            buzz(ser, \"t\")\n",
    "    elif position[1] < target[1] * (1.0 + marginOfError) and not position[1] > target[1] * (1.0 - marginOfError):\n",
    "        if mode == 0:\n",
    "            print(\"Down\")\n",
    "        else:\n",
    "            buzz(ser, \"b\")\n"
   ]
  }
 ],
 "metadata": {
  "interpreter": {
   "hash": "b6483709be57a4e2b43d5a095e3f332327a45d73bfcba0de4602a984ed295a03"
  },
  "kernelspec": {
   "display_name": "Python 3.9.5 64-bit",
   "language": "python",
   "name": "python3"
  },
  "language_info": {
   "codemirror_mode": {
    "name": "ipython",
    "version": 3
   },
   "file_extension": ".py",
   "mimetype": "text/x-python",
   "name": "python",
   "nbconvert_exporter": "python",
   "pygments_lexer": "ipython3",
   "version": "3.9.5"
  },
  "orig_nbformat": 4
 },
 "nbformat": 4,
 "nbformat_minor": 2
}
