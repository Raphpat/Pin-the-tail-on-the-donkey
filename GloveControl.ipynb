{
 "cells": [
  {
   "cell_type": "markdown",
   "metadata": {},
   "source": [
    "# Controlling the Bluetooth glove over COM\n",
    "\n",
    "- `Windows key + i` to open Settings, select `Devices`\n",
    "- Check if ESP32Buzz is paired. If not, add it. Check it is turned on!!\n",
    "- Then click `More Bluetooth Options`, go to the COM tab and check device is listed as Outgoing. Find name (COM3)\n",
    " - If not, click `Add` and add the device as outgoing\n",
    " \n",
    " ## Permission denied usually means some other service is connected. It might be this program! Run `ser.close()` to free it up."
   ]
  },
  {
   "cell_type": "markdown",
   "metadata": {},
   "source": [
    "Install pyserial before running this"
   ]
  },
  {
   "cell_type": "markdown",
   "metadata": {},
   "source": [
    "# Commands to Glove\n",
    "\n",
    "- Format is locbuzzduration. Where:\n",
    "- loc is four binary digits for trbl - you can turn on 1 or more, so 1000 means top and 1001 means both top and left\n",
    "- buzz is the word buzz\n",
    "- duration is in ms\n",
    "- Ends with a full stop."
   ]
  },
  {
   "cell_type": "code",
   "execution_count": 2,
   "metadata": {},
   "outputs": [],
   "source": [
    "import serial"
   ]
  },
  {
   "cell_type": "markdown",
   "metadata": {},
   "source": [
    "Here is an example, buzzing the left buzzer for 500 ms"
   ]
  },
  {
   "cell_type": "code",
   "execution_count": 3,
   "metadata": {},
   "outputs": [
    {
     "name": "stdout",
     "output_type": "stream",
     "text": [
      "COM10\n"
     ]
    }
   ],
   "source": [
    "ser = serial.Serial(\"COM10\")\n",
    "print(ser.name)\n",
    "ser.write(b\"0001buzz500.\")\n",
    "ser.close()"
   ]
  },
  {
   "cell_type": "markdown",
   "metadata": {},
   "source": [
    "## More useful functions\n",
    "\n",
    "Here are some example functions to give an idea of usage"
   ]
  },
  {
   "cell_type": "code",
   "execution_count": 4,
   "metadata": {},
   "outputs": [],
   "source": [
    "def open_glove():\n",
    "    return serial.Serial('COM10')\n",
    "\n",
    "def close_glove(ser):\n",
    "    ser.close()\n",
    "\n",
    "\n",
    "def buzz(loc, lenms=500):\n",
    "    '''Buzz given location for given duration in ms\n",
    "    location codes:\n",
    "    t, b, l, r, a'''\n",
    "    loc_ar = {'t':'1000', 'r':'0100', 'b':'0010', 'l':'0001', 'a':'1111'}\n",
    "    loc_code = loc_ar[loc]\n",
    "    com = loc_code+'buzz'+str(lenms)+'.'\n",
    "    ser.write(str.encode(com))\n",
    "\n",
    "def spin(times):\n",
    "    for i in range(times):\n",
    "        buzz('t',50)\n",
    "        buzz('r',50)\n",
    "        buzz('b',50)\n",
    "        buzz('l',50)\n",
    "        \n"
   ]
  },
  {
   "cell_type": "code",
   "execution_count": 5,
   "metadata": {},
   "outputs": [],
   "source": [
    "ser=open_glove()\n",
    "spin(10)\n",
    "close_glove(ser)"
   ]
  },
  {
   "cell_type": "markdown",
   "metadata": {},
   "source": [
    "## Keyboard control\n",
    "Here you can control the buzz direction from the keyboard"
   ]
  },
  {
   "cell_type": "code",
   "execution_count": 6,
   "metadata": {},
   "outputs": [
    {
     "name": "stdout",
     "output_type": "stream",
     "text": [
      "Go\n"
     ]
    }
   ],
   "source": [
    "import keyboard\n",
    "ser.close()\n",
    "ser=open_glove()\n",
    "print(\"Go\")\n",
    "while True:\n",
    "    if keyboard.is_pressed(\"z\"):\n",
    "        buzz(\"t\")\n",
    "    if keyboard.is_pressed(\"s\"):\n",
    "        buzz(\"b\")\n",
    "    if keyboard.is_pressed(\"d\"):\n",
    "        buzz(\"r\")\n",
    "    if keyboard.is_pressed(\"q\"):\n",
    "        buzz(\"l\")\n",
    "    if keyboard.is_pressed(\"space\"):\n",
    "        buzz(\"a\")\n",
    "    if keyboard.read_key() == 'a':\n",
    "        break\n",
    "        \n",
    "close_glove(ser)"
   ]
  }
 ],
 "metadata": {
  "kernelspec": {
   "display_name": "Python 3",
   "language": "python",
   "name": "python3"
  },
  "language_info": {
   "codemirror_mode": {
    "name": "ipython",
    "version": 3
   },
   "file_extension": ".py",
   "mimetype": "text/x-python",
   "name": "python",
   "nbconvert_exporter": "python",
   "pygments_lexer": "ipython3",
   "version": "3.9.5"
  }
 },
 "nbformat": 4,
 "nbformat_minor": 2
}
