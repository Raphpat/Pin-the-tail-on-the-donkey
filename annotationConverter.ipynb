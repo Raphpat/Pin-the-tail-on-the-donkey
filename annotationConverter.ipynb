{
 "cells": [
  {
   "cell_type": "code",
   "execution_count": 26,
   "metadata": {},
   "outputs": [
    {
     "name": "stdout",
     "output_type": "stream",
     "text": [
      "<bound method NDFrame.head of              filepath   x1   y1    x2   y2 class_name\n",
      "0     images/0001.jpg   76   19   216  222       head\n",
      "1     images/0001.jpg  102   27   133  105        ear\n",
      "2     images/0001.jpg  267  158   315  321        leg\n",
      "3     images/0001.jpg  470  107   519  278        leg\n",
      "4     images/0001.jpg  405  149   471  241        leg\n",
      "...               ...  ...  ...   ...  ...        ...\n",
      "1159  images/0100.jpg  811   24   890  127        ear\n",
      "1160  images/0100.jpg  936   36  1013  137        ear\n",
      "1161  images/0100.jpg  695  483   758  807        leg\n",
      "1162  images/0100.jpg  611  528   696  803        leg\n",
      "1163  images/0100.jpg  252  421   420  792        leg\n",
      "\n",
      "[1164 rows x 6 columns]>\n"
     ]
    }
   ],
   "source": [
    "import pandas as pd\n",
    "\n",
    "# Read the dataset using the pandas function\n",
    "df = pd.read_csv('donkey_annotation_csv.csv', header=0)\n",
    "df = df.loc[:, df.columns != 'file_size']\n",
    "df = df.loc[:, df.columns != 'file_attributes']\n",
    "df = df.loc[:, df.columns != 'region_count']\n",
    "df = df.loc[:, df.columns != 'region_id']\n",
    "# print(df.head())\n",
    "\n",
    "targetDf = pd.DataFrame(\n",
    "    columns=['filepath', 'x1', 'y1', 'x2', 'y2', 'class_name'])\n",
    "for index, row in df.iterrows():\n",
    "    #['{\"animal part\":\"head\"', '\"animal\":\"donkey\"}']\n",
    "    #['{\"animal\":\"donkey\"', '\"animal part\":\"not_defined\"}']\n",
    "    attribute = row[2].split(',')\n",
    "    attribute1 = attribute[0].split(':')\n",
    "    attribute2 = attribute[1].split(':')\n",
    "    #print(attribute1, \" - \", attribute2)\n",
    "    attrName1 = attribute1[0][2:-1]\n",
    "    attrValue1 = attribute1[1][1:-1]\n",
    "    attrName2 = attribute2[0][1:-1]\n",
    "    attrValue2 = attribute2[1][1:-2]\n",
    "    animal = ''\n",
    "    if attrName1 == 'animal part':\n",
    "        class_name = attrValue1\n",
    "        animal = attrValue2\n",
    "    else:\n",
    "        animal = attrValue1\n",
    "        class_name = attrValue2\n",
    "    #print(attrName1, \" - \", attrValue1, \" - \", attrName2, \" - \", attrValue2)\n",
    "    # Check that the animal attribute is donkey and that the part is defined\n",
    "    if animal == 'donkey' and class_name != 'not_defined':\n",
    "        filename = 'images/' + (row[0])\n",
    "        #['{\"name\":\"rect\"', '\"x\":76', '\"y\":19', '\"width\":140', '\"height\":203}']\n",
    "        shape_attributes = row[1].split(',')\n",
    "        x1 = int(shape_attributes[1].split(':')[1])\n",
    "        y1 = int(shape_attributes[2].split(':')[1])\n",
    "        x2 = x1 + int(shape_attributes[3].split(':')[1])\n",
    "        y2 = y1 + int(shape_attributes[4].split(':')[1][:-1])\n",
    "        new_row = pd.Series(\n",
    "            [filename, x1, y1, x2, y2, class_name], index=targetDf.columns)\n",
    "        targetDf = targetDf.append(new_row, ignore_index=True)\n",
    "\n",
    "print(targetDf.head)\n",
    "targetDf.to_csv('./convertedAnnotation.csv', index=False)\n"
   ]
  }
 ],
 "metadata": {
  "interpreter": {
   "hash": "b6483709be57a4e2b43d5a095e3f332327a45d73bfcba0de4602a984ed295a03"
  },
  "kernelspec": {
   "display_name": "Python 3.9.5 64-bit",
   "language": "python",
   "name": "python3"
  },
  "language_info": {
   "codemirror_mode": {
    "name": "ipython",
    "version": 3
   },
   "file_extension": ".py",
   "mimetype": "text/x-python",
   "name": "python",
   "nbconvert_exporter": "python",
   "pygments_lexer": "ipython3",
   "version": "3.9.5"
  },
  "orig_nbformat": 4
 },
 "nbformat": 4,
 "nbformat_minor": 2
}
